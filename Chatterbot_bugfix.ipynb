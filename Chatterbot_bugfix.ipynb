{
 "cells": [
  {
   "cell_type": "code",
   "execution_count": 1,
   "id": "b285ee4b",
   "metadata": {},
   "outputs": [
    {
     "name": "stdout",
     "output_type": "stream",
     "text": [
      "✔ Download and installation successful\n",
      "You can now load the package via spacy.load('en_core_web_sm')\n"
     ]
    }
   ],
   "source": [
    "from chatterbot import ChatBot\n",
    "from chatterbot.trainers import ListTrainer\n",
    "\n",
    "#Resolucao do bug de compatibilidade 'en'\n",
    "from spacy.cli import download\n",
    "download(\"en_core_web_sm\")\n",
    "\n",
    "class ENGSM:\n",
    "    ISO_639_1 = 'en_core_web_sm'\n",
    "#fim resolucao do bug\n",
    "\n",
    "\n",
    "#criando chatbot\n",
    "chatbot = ChatBot(\"AgenteVirtual\", tagger_language=ENGSM)"
   ]
  },
  {
   "cell_type": "code",
   "execution_count": 2,
   "id": "43c12c19",
   "metadata": {},
   "outputs": [
    {
     "name": "stdout",
     "output_type": "stream",
     "text": [
      "List Trainer: [####################] 100%\n"
     ]
    }
   ],
   "source": [
    "#criando chatbot\n",
    "chatbot = ChatBot(\"AgenteVirtual\", tagger_language=ENGSM)\n",
    "\n",
    "#treinando\n",
    "\n",
    "conversa = [\n",
    "    \"Oi\",\n",
    "    \"Olá, sou o Agente Virtual da Stellantis Saúde para tirar suas dúvidas sobre o plano, digite em poucas palavras qual a sua dúvida.\"    \n",
    "]\n",
    "\n",
    "conversa2 = [\n",
    "    \"Reembolso\"\n",
    "    \"\"\n",
    "]\n",
    "\n",
    "trainer = ListTrainer(chatbot)\n",
    "trainer.train(conversa)"
   ]
  },
  {
   "cell_type": "code",
   "execution_count": null,
   "id": "3157b425",
   "metadata": {},
   "outputs": [
    {
     "name": "stdout",
     "output_type": "stream",
     "text": [
      "Mande um Oi para iniciar a conversa com o Agente Virtual. oi\n",
      "Bot:  Olá, sou o Agente Virtual da Stellantis Saúde para tirar suas dúvidas sobre o plano, digite em poucas palavras qual a sua dúvida.\n"
     ]
    }
   ],
   "source": [
    "while True:\n",
    "    mensagem = input(\"Mande um Oi para iniciar a conversa com o Agente Virtual. \")\n",
    "    if mensagem == \"Fim\":\n",
    "        break\n",
    "    resposta = chatbot.get_response(mensagem)\n",
    "    print('Bot: ', resposta)"
   ]
  },
  {
   "cell_type": "code",
   "execution_count": null,
   "id": "0520dbca",
   "metadata": {},
   "outputs": [],
   "source": []
  }
 ],
 "metadata": {
  "kernelspec": {
   "display_name": "Python 3 (ipykernel)",
   "language": "python",
   "name": "python3"
  },
  "language_info": {
   "codemirror_mode": {
    "name": "ipython",
    "version": 3
   },
   "file_extension": ".py",
   "mimetype": "text/x-python",
   "name": "python",
   "nbconvert_exporter": "python",
   "pygments_lexer": "ipython3",
   "version": "3.9.7"
  }
 },
 "nbformat": 4,
 "nbformat_minor": 5
}
